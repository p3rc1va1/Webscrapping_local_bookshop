{
 "cells": [
  {
   "cell_type": "markdown",
   "metadata": {},
   "source": [
    "# Scrapping my local book shop to compare the prices with other deals"
   ]
  },
  {
   "cell_type": "code",
   "execution_count": 56,
   "metadata": {},
   "outputs": [],
   "source": [
    "from selenium import webdriver\n",
    "from selenium.webdriver.common.by import By\n",
    "from selenium.webdriver.common.keys import Keys\n",
    "from bs4 import BeautifulSoup\n",
    "import requests\n",
    "import time\n",
    "\n",
    "name_storage = []\n",
    "brand_storage = []\n",
    "price_storage = []\n",
    "# Initialize the WebDriver\n",
    "\n",
    "for i in range(2,133):\n",
    "    time.sleep(2)\n",
    "    driver = webdriver.Chrome()\n",
    "    link = f\"https://www.knygos.lt/lt/knygos/zanras/grozine-literatura-ir-susije-dalykai--anglu-k--/?psl={i}\"\n",
    "    # Open a webpage\n",
    "    driver.get(link)\n",
    "\n",
    "    SCROLL_PAUSE_TIME = 0.5  #the pause time between scrolls\n",
    "    last_height = driver.execute_script(\"return document.body.scrollHeight\")\n",
    "\n",
    "    while True:\n",
    "        # Scroll down\n",
    "        driver.execute_script(\"window.scrollTo(0, document.body.scrollHeight);\")\n",
    "        \n",
    "        # Wait for the next content to load\n",
    "        time.sleep(SCROLL_PAUSE_TIME)\n",
    "        \n",
    "        # Calculate new scroll height\n",
    "        new_height = driver.execute_script(\"return document.body.scrollHeight\")\n",
    "        if new_height == last_height:\n",
    "            break\n",
    "        last_height = new_height\n",
    "\n",
    "    # Extract HTML after scrolling is finished\n",
    "    html = driver.page_source\n",
    "\n",
    "    soup = BeautifulSoup(html, 'html.parser')\n",
    "    book_titles_tag = soup.findAll(\"a\")\n",
    "    for a_tag in book_titles_tag:\n",
    "        book_title = a_tag.get('data-cta-name')\n",
    "        book_brand = a_tag.get('data-cta-brand')\n",
    "        book_price = a_tag.get('data-cta-price')\n",
    "        if book_title:\n",
    "            name_storage.append(book_title)\n",
    "        if book_brand:\n",
    "            brand_storage.append(book_brand)\n",
    "        if book_price:\n",
    "            price_storage.append(book_price)\n",
    "\n",
    "\n",
    "    driver.quit()\n"
   ]
  },
  {
   "cell_type": "code",
   "execution_count": 57,
   "metadata": {},
   "outputs": [
    {
     "data": {
      "text/plain": [
       "3928"
      ]
     },
     "execution_count": 57,
     "metadata": {},
     "output_type": "execute_result"
    }
   ],
   "source": [
    "len(name_storage)"
   ]
  },
  {
   "cell_type": "code",
   "execution_count": 67,
   "metadata": {},
   "outputs": [],
   "source": [
    "import csv\n",
    "rows = zip(name_storage, brand_storage, price_storage)\n",
    "file_name = \"output.csv\"\n",
    "\n",
    "\n",
    "with open(file_name, mode='w', newline='') as file:\n",
    "    writer = csv.writer(file)\n",
    "    writer.writerow(['book_title', 'book_brand', 'book_price'])\n",
    "    writer.writerows(rows)"
   ]
  }
 ],
 "metadata": {
  "kernelspec": {
   "display_name": "base",
   "language": "python",
   "name": "python3"
  },
  "language_info": {
   "codemirror_mode": {
    "name": "ipython",
    "version": 3
   },
   "file_extension": ".py",
   "mimetype": "text/x-python",
   "name": "python",
   "nbconvert_exporter": "python",
   "pygments_lexer": "ipython3",
   "version": "3.11.3"
  }
 },
 "nbformat": 4,
 "nbformat_minor": 2
}
